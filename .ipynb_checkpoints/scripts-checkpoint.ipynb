{
 "cells": [
  {
   "cell_type": "markdown",
   "id": "1af70780",
   "metadata": {},
   "source": [
    "# Setup\n",
    "\n",
    "---\n",
    "\n",
    "The idea for the following project came from a [Medium post](https://medium.com/@dmytrosazonov/how-to-predict-stock-market-using-google-tensorflow-and-lstm-neural-network-81ccc41a22a8). We improve the Medium's code adding new models and new analysis. To do that, the group used as tools the [ChatGPT](https://chat.openai.com/) optimizations and the [Aurélien Geron's public notebooks](https://github.com/ageron/handson-ml2/blob/master/15_processing_sequences_using_rnns_and_cnns.ipynb)\n"
   ]
  },
  {
   "cell_type": "code",
   "execution_count": 4,
   "id": "3824d76e",
   "metadata": {},
   "outputs": [],
   "source": [
    "import datetime as dt\n",
    "import time as tm\n",
    "\n",
    "# AI\n",
    "import keras\n",
    "\n",
    "# Graphics library\n",
    "import matplotlib.pyplot as plt\n",
    "import numpy as np\n",
    "import tensorflow as tf\n",
    "from sklearn.preprocessing import MinMaxScaler\n",
    "\n",
    "# Data preparation\n",
    "from yahoo_fin import stock_info as yf\n",
    "\n",
    "from utils import (\n",
    "    last_time_step_mse,\n",
    "    plot_learning_curves,\n",
    "    plot_multiple_forecasts,\n",
    "    plot_series,\n",
    ")"
   ]
  },
  {
   "cell_type": "markdown",
   "id": "d18c63ba",
   "metadata": {},
   "source": [
    "## Data\n",
    "\n",
    "--- \n",
    "\n",
    "#### Load Data From Yahoo API"
   ]
  },
  {
   "cell_type": "code",
   "execution_count": 5,
   "id": "0b919dce",
   "metadata": {},
   "outputs": [],
   "source": [
    "tf.random.set_seed(42)\n",
    "\n",
    "ANALYZED_YEARS = 5\n",
    "STOCK = \"GOOGL\"\n",
    "INTERVAL = \"1d\"\n",
    "N_STEPS = 22  # working days of a month\n",
    "EPOCHS = 50"
   ]
  },
  {
   "cell_type": "code",
   "execution_count": 7,
   "id": "965c0c7b",
   "metadata": {},
   "outputs": [
    {
     "data": {
      "text/html": [
       "<div>\n",
       "<style scoped>\n",
       "    .dataframe tbody tr th:only-of-type {\n",
       "        vertical-align: middle;\n",
       "    }\n",
       "\n",
       "    .dataframe tbody tr th {\n",
       "        vertical-align: top;\n",
       "    }\n",
       "\n",
       "    .dataframe thead th {\n",
       "        text-align: right;\n",
       "    }\n",
       "</style>\n",
       "<table border=\"1\" class=\"dataframe\">\n",
       "  <thead>\n",
       "    <tr style=\"text-align: right;\">\n",
       "      <th></th>\n",
       "      <th>open</th>\n",
       "      <th>high</th>\n",
       "      <th>low</th>\n",
       "      <th>close</th>\n",
       "      <th>adjclose</th>\n",
       "      <th>volume</th>\n",
       "      <th>ticker</th>\n",
       "    </tr>\n",
       "  </thead>\n",
       "  <tbody>\n",
       "    <tr>\n",
       "      <th>2018-05-29</th>\n",
       "      <td>53.799999</td>\n",
       "      <td>54.067001</td>\n",
       "      <td>53.153999</td>\n",
       "      <td>53.403500</td>\n",
       "      <td>53.403500</td>\n",
       "      <td>36076000</td>\n",
       "      <td>GOOGL</td>\n",
       "    </tr>\n",
       "    <tr>\n",
       "      <th>2018-05-30</th>\n",
       "      <td>53.674000</td>\n",
       "      <td>53.949501</td>\n",
       "      <td>53.327499</td>\n",
       "      <td>53.873501</td>\n",
       "      <td>53.873501</td>\n",
       "      <td>28686000</td>\n",
       "      <td>GOOGL</td>\n",
       "    </tr>\n",
       "    <tr>\n",
       "      <th>2018-05-31</th>\n",
       "      <td>54.099998</td>\n",
       "      <td>55.500000</td>\n",
       "      <td>53.900002</td>\n",
       "      <td>55.000000</td>\n",
       "      <td>55.000000</td>\n",
       "      <td>79368000</td>\n",
       "      <td>GOOGL</td>\n",
       "    </tr>\n",
       "    <tr>\n",
       "      <th>2018-06-01</th>\n",
       "      <td>55.643501</td>\n",
       "      <td>56.908001</td>\n",
       "      <td>55.600498</td>\n",
       "      <td>56.750000</td>\n",
       "      <td>56.750000</td>\n",
       "      <td>63202000</td>\n",
       "      <td>GOOGL</td>\n",
       "    </tr>\n",
       "    <tr>\n",
       "      <th>2018-06-04</th>\n",
       "      <td>56.924999</td>\n",
       "      <td>57.893002</td>\n",
       "      <td>56.849998</td>\n",
       "      <td>57.652000</td>\n",
       "      <td>57.652000</td>\n",
       "      <td>44754000</td>\n",
       "      <td>GOOGL</td>\n",
       "    </tr>\n",
       "  </tbody>\n",
       "</table>\n",
       "</div>"
      ],
      "text/plain": [
       "                 open       high        low      close   adjclose    volume  \\\n",
       "2018-05-29  53.799999  54.067001  53.153999  53.403500  53.403500  36076000   \n",
       "2018-05-30  53.674000  53.949501  53.327499  53.873501  53.873501  28686000   \n",
       "2018-05-31  54.099998  55.500000  53.900002  55.000000  55.000000  79368000   \n",
       "2018-06-01  55.643501  56.908001  55.600498  56.750000  56.750000  63202000   \n",
       "2018-06-04  56.924999  57.893002  56.849998  57.652000  57.652000  44754000   \n",
       "\n",
       "           ticker  \n",
       "2018-05-29  GOOGL  \n",
       "2018-05-30  GOOGL  \n",
       "2018-05-31  GOOGL  \n",
       "2018-06-01  GOOGL  \n",
       "2018-06-04  GOOGL  "
      ]
     },
     "execution_count": 7,
     "metadata": {},
     "output_type": "execute_result"
    }
   ],
   "source": [
    "init_df = yf.get_data(\n",
    "    STOCK,\n",
    "    start_date=(dt.date.today() - dt.timedelta(days=365 * ANALYZED_YEARS)).strftime(\n",
    "        \"%Y-%m-%d\"\n",
    "    ),\n",
    "    end_date=tm.strftime(\"%Y-%m-%d\"),\n",
    "    interval=INTERVAL,\n",
    ")\n",
    "init_df.to_csv(f\"./data/raw/{STOCK}_{ANALYZED_YEARS}Y_{INTERVAL}.csv\")\n",
    "init_df.head()"
   ]
  },
  {
   "cell_type": "code",
   "execution_count": 8,
   "id": "77681ddb",
   "metadata": {},
   "outputs": [
    {
     "data": {
      "text/html": [
       "<div>\n",
       "<style scoped>\n",
       "    .dataframe tbody tr th:only-of-type {\n",
       "        vertical-align: middle;\n",
       "    }\n",
       "\n",
       "    .dataframe tbody tr th {\n",
       "        vertical-align: top;\n",
       "    }\n",
       "\n",
       "    .dataframe thead th {\n",
       "        text-align: right;\n",
       "    }\n",
       "</style>\n",
       "<table border=\"1\" class=\"dataframe\">\n",
       "  <thead>\n",
       "    <tr style=\"text-align: right;\">\n",
       "      <th></th>\n",
       "      <th>close</th>\n",
       "      <th>date</th>\n",
       "      <th>close_norm</th>\n",
       "    </tr>\n",
       "  </thead>\n",
       "  <tbody>\n",
       "    <tr>\n",
       "      <th>0</th>\n",
       "      <td>53.403500</td>\n",
       "      <td>2018-05-29</td>\n",
       "      <td>0.041449</td>\n",
       "    </tr>\n",
       "    <tr>\n",
       "      <th>1</th>\n",
       "      <td>53.873501</td>\n",
       "      <td>2018-05-30</td>\n",
       "      <td>0.046121</td>\n",
       "    </tr>\n",
       "    <tr>\n",
       "      <th>2</th>\n",
       "      <td>55.000000</td>\n",
       "      <td>2018-05-31</td>\n",
       "      <td>0.057318</td>\n",
       "    </tr>\n",
       "    <tr>\n",
       "      <th>3</th>\n",
       "      <td>56.750000</td>\n",
       "      <td>2018-06-01</td>\n",
       "      <td>0.074713</td>\n",
       "    </tr>\n",
       "    <tr>\n",
       "      <th>4</th>\n",
       "      <td>57.652000</td>\n",
       "      <td>2018-06-04</td>\n",
       "      <td>0.083679</td>\n",
       "    </tr>\n",
       "  </tbody>\n",
       "</table>\n",
       "</div>"
      ],
      "text/plain": [
       "       close       date  close_norm\n",
       "0  53.403500 2018-05-29    0.041449\n",
       "1  53.873501 2018-05-30    0.046121\n",
       "2  55.000000 2018-05-31    0.057318\n",
       "3  56.750000 2018-06-01    0.074713\n",
       "4  57.652000 2018-06-04    0.083679"
      ]
     },
     "execution_count": 8,
     "metadata": {},
     "output_type": "execute_result"
    }
   ],
   "source": [
    "# remove unused columns\n",
    "init_df.drop(\n",
    "    [\"open\", \"high\", \"low\", \"adjclose\", \"ticker\", \"volume\"], axis=1, inplace=True\n",
    ")\n",
    "init_df[\"date\"] = init_df.index\n",
    "init_df.reset_index(drop=True, inplace=True)\n",
    "\n",
    "# Scale\n",
    "scaler = MinMaxScaler()\n",
    "init_df[\"close_norm\"] = scaler.fit_transform(\n",
    "    np.expand_dims(init_df[\"close\"].values, axis=1)\n",
    ")\n",
    "init_df.to_csv(f\"./data/processed/{STOCK}_{ANALYZED_YEARS}Y_{INTERVAL}.csv\")\n",
    "\n",
    "# Save scaled array\n",
    "np.save(\n",
    "    f\"./data/processed/{STOCK}_{ANALYZED_YEARS}Y_{INTERVAL}_norm\", init_df[\"close_norm\"]\n",
    ")\n",
    "\n",
    "init_df.head()\n"
   ]
  },
  {
   "cell_type": "markdown",
   "id": "f7c689a5",
   "metadata": {},
   "source": [
    "#### Visualization "
   ]
  },
  {
   "cell_type": "code",
   "execution_count": 9,
   "id": "9b08b1c3",
   "metadata": {},
   "outputs": [
    {
     "data": {
      "image/png": "[encoded data removed]",
      "text/plain": [
       "<Figure size 1152x720 with 1 Axes>"
      ]
     },
     "metadata": {},
     "output_type": "display_data"
    }
   ],
   "source": [
    "plt.style.use(style=\"ggplot\")\n",
    "plt.figure(figsize=(16, 10))\n",
    "plt.plot(init_df[\"date\"], init_df[\"close\"])\n",
    "plt.xlabel(\"days\")\n",
    "plt.ylabel(\"price\")\n",
    "plt.legend([f\"Actual price for {STOCK}\"])\n",
    "plt.show()"
   ]
  },
  {
   "cell_type": "markdown",
   "id": "5ff55307",
   "metadata": {},
   "source": [
    "#### Data split"
   ]
  },
  {
   "cell_type": "code",
   "execution_count": 10,
   "id": "d7e0a5dc",
   "metadata": {},
   "outputs": [],
   "source": [
    "data = np.load(f\"./data/processed/{STOCK}_{ANALYZED_YEARS}Y_{INTERVAL}_norm.npy\")\n",
    "\n",
    "data = np.reshape(data[data.size % N_STEPS :], (data.size // N_STEPS, N_STEPS, 1))\n",
    "\n",
    "X_train, y_train = (\n",
    "    data[: int(data.shape[0] * 0.8), : N_STEPS - 1],\n",
    "    data[: int(data.shape[0] * 0.8), -1],\n",
    ")\n",
    "X_test, y_test = (\n",
    "    data[int(data.shape[0] * 0.8):, : N_STEPS - 1],\n",
    "    data[int(data.shape[0] * 0.8):, -1],\n",
    ")"
   ]
  },
  {
   "cell_type": "markdown",
   "id": "ff994833",
   "metadata": {},
   "source": []
  }
 ],
 "metadata": {
  "kernelspec": {
   "display_name": "Python 3 (ipykernel)",
   "language": "python",
   "name": "python3"
  },
  "language_info": {
   "codemirror_mode": {
    "name": "ipython",
    "version": 3
   },
   "file_extension": ".py",
   "mimetype": "text/x-python",
   "name": "python",
   "nbconvert_exporter": "python",
   "pygments_lexer": "ipython3",
   "version": "3.9.12"
  }
 },
 "nbformat": 4,
 "nbformat_minor": 5
}
