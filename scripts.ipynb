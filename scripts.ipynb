{
 "cells": [
  {
   "cell_type": "markdown",
   "id": "1af70780",
   "metadata": {},
   "source": [
    "# Setup\n",
    "\n",
    "---\n",
    "\n",
    "The idea for the following project came from a [Medium post](https://medium.com/@dmytrosazonov/how-to-predict-stock-market-using-google-tensorflow-and-lstm-neural-network-81ccc41a22a8). We improve the Medium's code adding new models and new analysis. To do that, the group used as tools the [ChatGPT](https://chat.openai.com/) optimizations and the [Aurélien Geron's public notebooks](https://github.com/ageron/handson-ml2/blob/master/15_processing_sequences_using_rnns_and_cnns.ipynb)\n"
   ]
  },
  {
   "cell_type": "code",
   "execution_count": null,
   "id": "3824d76e",
   "metadata": {},
   "outputs": [],
   "source": [
    "import datetime as dt\n",
    "import time as tm\n",
    "\n",
    "# AI\n",
    "import keras\n",
    "\n",
    "# Graphics library\n",
    "import matplotlib.pyplot as plt\n",
    "import numpy as np\n",
    "import tensorflow as tf\n",
    "from sklearn.preprocessing import MinMaxScaler\n",
    "\n",
    "# Data preparation\n",
    "from yahoo_fin import stock_info as yf\n",
    "\n",
    "from utils import (\n",
    "    last_time_step_mse,\n",
    "    plot_learning_curves,\n",
    "    plot_multiple_forecasts,\n",
    "    plot_series,\n",
    ")"
   ]
  },
  {
   "cell_type": "markdown",
   "id": "52df48a7",
   "metadata": {},
   "source": [
    "## Data\n",
    "\n",
    "--- \n",
    "\n",
    "#### Load Data From Yahoo API"
   ]
  },
  {
   "cell_type": "code",
   "execution_count": null,
   "id": "e5038bae",
   "metadata": {},
   "outputs": [],
   "source": [
    "tf.random.set_seed(42)\n",
    "\n",
    "ANALYZED_YEARS = 5\n",
    "STOCK = \"GOOGL\"\n",
    "INTERVAL = \"1d\"\n",
    "N_STEPS = 22  # working days of a month\n",
    "EPOCHS = 50"
   ]
  },
  {
   "cell_type": "code",
   "execution_count": null,
   "id": "a19a2077",
   "metadata": {},
   "outputs": [],
   "source": [
    "init_df = yf.get_data(\n",
    "    STOCK,\n",
    "    start_date=(dt.date.today() - dt.timedelta(days=365 * ANALYZED_YEARS)).strftime(\n",
    "        \"%Y-%m-%d\"\n",
    "    ),\n",
    "    end_date=tm.strftime(\"%Y-%m-%d\"),\n",
    "    interval=INTERVAL,\n",
    ")\n",
    "init_df.to_csv(f\"./data/raw/{STOCK}_{ANALYZED_YEARS}Y_{INTERVAL}.csv\")\n",
    "init_df.head()"
   ]
  },
  {
   "cell_type": "code",
   "execution_count": null,
   "id": "993e9889",
   "metadata": {},
   "outputs": [],
   "source": [
    "# remove unused columns\n",
    "init_df.drop(\n",
    "    [\"open\", \"high\", \"low\", \"adjclose\", \"ticker\", \"volume\"], axis=1, inplace=True\n",
    ")\n",
    "init_df[\"date\"] = init_df.index\n",
    "init_df.reset_index(drop=True, inplace=True)\n",
    "\n",
    "# Scale\n",
    "scaler = MinMaxScaler()\n",
    "init_df[\"close_norm\"] = scaler.fit_transform(\n",
    "    np.expand_dims(init_df[\"close\"].values, axis=1)\n",
    ")\n",
    "init_df.to_csv(f\"./data/processed/{STOCK}_{ANALYZED_YEARS}Y_{INTERVAL}.csv\")\n",
    "\n",
    "# Save scaled array\n",
    "np.save(\n",
    "    f\"./data/processed/{STOCK}_{ANALYZED_YEARS}Y_{INTERVAL}_norm\", init_df[\"close_norm\"]\n",
    ")\n",
    "\n",
    "init_df.head()\n"
   ]
  },
  {
   "cell_type": "markdown",
   "id": "90de5d31",
   "metadata": {},
   "source": [
    "#### Visualization "
   ]
  },
  {
   "cell_type": "code",
   "execution_count": null,
   "id": "847f7c58",
   "metadata": {},
   "outputs": [],
   "source": [
    "plt.style.use(style=\"ggplot\")\n",
    "plt.figure(figsize=(16, 10))\n",
    "plt.plot(init_df[\"date\"], init_df[\"close\"])\n",
    "plt.xlabel(\"days\")\n",
    "plt.ylabel(\"price\")\n",
    "plt.legend([f\"Actual price for {STOCK}\"])\n",
    "plt.show()"
   ]
  },
  {
   "cell_type": "markdown",
   "id": "16738254",
   "metadata": {},
   "source": [
    "#### Data split"
   ]
  },
  {
   "cell_type": "code",
   "execution_count": null,
   "id": "4fa8d710",
   "metadata": {},
   "outputs": [],
   "source": [
    "data = np.load(f\"./data/processed/{STOCK}_{ANALYZED_YEARS}Y_{INTERVAL}_norm.npy\")\n",
    "\n",
    "data = np.reshape(data[data.size % N_STEPS :], (data.size // N_STEPS, N_STEPS, 1))\n",
    "\n",
    "X_train, y_train = (\n",
    "    data[: int(data.shape[0] * 0.8), : N_STEPS - 1],\n",
    "    data[: int(data.shape[0] * 0.8), -1],\n",
    ")\n",
    "X_test, y_test = (\n",
    "    data[int(data.shape[0] * 0.8):, : N_STEPS - 1],\n",
    "    data[int(data.shape[0] * 0.8):, -1],\n",
    ")"
   ]
  },
  {
   "cell_type": "markdown",
   "id": "010db62b",
   "metadata": {},
   "source": []
  }
 ],
 "metadata": {
  "kernelspec": {
   "display_name": "Python 3 (ipykernel)",
   "language": "python",
   "name": "python3"
  },
  "language_info": {
   "codemirror_mode": {
    "name": "ipython",
    "version": 3
   },
   "file_extension": ".py",
   "mimetype": "text/x-python",
   "name": "python",
   "nbconvert_exporter": "python",
   "pygments_lexer": "ipython3",
   "version": "3.9.12"
  }
 },
 "nbformat": 4,
 "nbformat_minor": 5
}
